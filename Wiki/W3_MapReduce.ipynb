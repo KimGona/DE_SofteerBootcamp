{
 "cells": [
  {
   "cell_type": "markdown",
   "id": "1539d5ec-3264-4c7c-ac10-5884f84e64c7",
   "metadata": {},
   "source": [
    "# W3M3: Word Count using MapReduce"
   ]
  },
  {
   "cell_type": "code",
   "execution_count": null,
   "id": "7df6d469-f064-41dd-8c54-b47e45035fc3",
   "metadata": {},
   "outputs": [],
   "source": []
  },
  {
   "cell_type": "code",
   "execution_count": null,
   "id": "04034f6d-bd85-4ba2-a3aa-eb78a8886711",
   "metadata": {},
   "outputs": [],
   "source": []
  },
  {
   "cell_type": "markdown",
   "id": "a1e31188-fac2-450d-9f7f-70bca134c1d0",
   "metadata": {},
   "source": [
    "# W3M4: Twitter Sentiment Analysis using MapReduce"
   ]
  },
  {
   "cell_type": "code",
   "execution_count": null,
   "id": "59f2bce5-7a20-4137-a951-4b966fc0bcab",
   "metadata": {},
   "outputs": [],
   "source": []
  },
  {
   "cell_type": "code",
   "execution_count": null,
   "id": "8c526d37-a6ce-48af-8225-0c7190ae66ff",
   "metadata": {},
   "outputs": [],
   "source": []
  },
  {
   "cell_type": "markdown",
   "id": "b6c75e66-65ad-440e-94ff-918161fa0f9e",
   "metadata": {},
   "source": [
    "# W3M5: Average Rating of Movies using MapReduce"
   ]
  },
  {
   "cell_type": "code",
   "execution_count": null,
   "id": "d82c10b0-c548-41c1-9e4d-f8dd5b6b22fd",
   "metadata": {},
   "outputs": [],
   "source": []
  },
  {
   "cell_type": "code",
   "execution_count": null,
   "id": "65df6e3d-ece4-484d-ad0b-b0cb50eec185",
   "metadata": {},
   "outputs": [],
   "source": []
  },
  {
   "cell_type": "markdown",
   "id": "58bdd1e8-a885-4623-8a88-e29a5bd6725a",
   "metadata": {},
   "source": [
    "# W3M6: Amazon Product Review using MapReduce"
   ]
  },
  {
   "cell_type": "code",
   "execution_count": null,
   "id": "e795fe43-2435-469e-bf94-9eb14891eee2",
   "metadata": {},
   "outputs": [],
   "source": []
  },
  {
   "cell_type": "code",
   "execution_count": null,
   "id": "fd76016e-0bdc-49f8-b2d6-4958cd9e5210",
   "metadata": {},
   "outputs": [],
   "source": []
  }
 ],
 "metadata": {
  "kernelspec": {
   "display_name": "Python 3 (ipykernel)",
   "language": "python",
   "name": "python3"
  },
  "language_info": {
   "codemirror_mode": {
    "name": "ipython",
    "version": 3
   },
   "file_extension": ".py",
   "mimetype": "text/x-python",
   "name": "python",
   "nbconvert_exporter": "python",
   "pygments_lexer": "ipython3",
   "version": "3.10.16"
  }
 },
 "nbformat": 4,
 "nbformat_minor": 5
}
