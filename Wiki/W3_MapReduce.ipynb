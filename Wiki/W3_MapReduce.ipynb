{
 "cells": [
  {
   "cell_type": "markdown",
   "id": "1539d5ec-3264-4c7c-ac10-5884f84e64c7",
   "metadata": {},
   "source": [
    "# W3M3: Word Count using MapReduce"
   ]
  },
  {
   "cell_type": "markdown",
   "id": "14e0ac21",
   "metadata": {},
   "source": [
    "\n",
    "## 기능요구사항\n",
    "\n",
    "### MapReduce Program:\n",
    "- 프로그램은 HDFS로부터의 인풋 텍스트를 읽어야 한다. \n",
    "- Mapper는 텍스트의 각 단어마다 키-값 쌍을 남겨야 한다.\n",
    "- Reducer는 제공된 키-값 쌍을 집계해야 하고 각 단어의 총 개수를 출력해야 한다.\n",
    "\n",
    "### Job Execution:\n",
    "- MapReduce 작업은 오류 없이 Hadoop 클러스터에서 실행되어야 함.\n",
    "- 전체 e-book을 처리하여 정확한 단어 개수를 출력해야 함.\n",
    "- Hadoop의 분산 처리 기능을 활용하여 큰 입력 파일을 효율적으로 처리해야 함.\n",
    "\n",
    "### Result Output:\n",
    "- 출력은 HDFS에 텍스트 파일로 저장되어야 함.\n",
    "- 출력 파일의 각 줄은 단어와 해당 개수를 탭 또는 공백으로 구분하여 포함해야 함.\n",
    "- HDFS에서 출력 파일을 읽고 해석 가능해야 함.\n",
    "\n",
    "## 프로그래밍 요구사항\n",
    "\n",
    "### MapReduce Program:\n",
    "- 각 단어의 발생 빈도를 계산하는 MapReduce 프로그램 작성.\n",
    "- Mapper와 Reducer 클래스를 Python으로 구현.\n",
    "- Mapper: 각 줄을 처리하여 키-값 쌍(단어, 1)을 출력.\n",
    "- Reducer: 동일한 키(단어)의 값을 합산하고 총 개수를 출력.\n",
    "\n",
    "### Setup Hadoop Environment:\n",
    "- 단일 노드 또는 다중 노드 클러스터에서 Hadoop 환경을 설정.\n",
    "- 200페이지 이상의 영어 e-book을 HDFS에 업로드.\n",
    "\n",
    "### Running the MapReduce Job:\n",
    "- MapReduce 프로그램을 스크립트 또는 JAR 파일로 패키징.\n",
    "- MapReduce 작업을 Hadoop 클러스터에 제출.\n",
    "- Hadoop 웹 인터페이스나 명령줄 도구를 통해 작업 진행 상황 모니터링.\n",
    "\n",
    "### Result Collection:\n",
    "- HDFS에서 MapReduce 작업 결과 출력 파일 가져오기.\n",
    "- 출력 파일에 e-book 단어 개수가 포함되었는지 확인.\n",
    "\n",
    "## 예상결과 및 동작예시\n",
    "\n",
    "### MapReduce Job:\n",
    "- 대형 e-book을 성공적으로 처리하고 단어 개수를 계산하는 MapReduce 프로그램.\n",
    "- 작업이 오류 없이 완료되고 Hadoop 클러스터 리소스를 효율적으로 활용해야 함.\n",
    "\n",
    "### Word Count Output:\n",
    "- e-book 전체의 단어 개수가 포함된 HDFS 출력 파일.\n",
    "- 출력 파일에서 각 단어의 개수가 정확히 나타나야 함.\n",
    "\n",
    "### Documentation:\n",
    "- 컴파일, 실행 및 MapReduce 작업 검증 방법을 안내하는 포괄적인 문서 제공.\n",
    "- HDFS와 관련된 입력 및 출력 파일 작업 지침 포함.\n",
    "- 입력 파일 업로드, 작업 실행 및 출력 파일 검색 단계 설명.\n",
    "- 출력 해석 및 결과 검증 방법 문서화.\n",
    "\n",
    "### Submission:\n",
    "- MapReduce 프로그램의 소스 코드 제출.\n",
    "- README 파일 제공:\n",
    "- 프로그램 컴파일 방법.\n",
    "- 입력 파일을 HDFS에 업로드하는 방법.\n",
    "- MapReduce 작업 실행 및 출력 파일 검색 방법.\n",
    "- 선택한 e-book의 이름 및 출처 포함.\n"
   ]
  },
  {
   "cell_type": "code",
   "execution_count": null,
   "id": "04034f6d-bd85-4ba2-a3aa-eb78a8886711",
   "metadata": {},
   "outputs": [],
   "source": []
  },
  {
   "cell_type": "markdown",
   "id": "a1e31188-fac2-450d-9f7f-70bca134c1d0",
   "metadata": {},
   "source": [
    "# W3M4: Twitter Sentiment Analysis using MapReduce"
   ]
  },
  {
   "cell_type": "code",
   "execution_count": null,
   "id": "59f2bce5-7a20-4137-a951-4b966fc0bcab",
   "metadata": {},
   "outputs": [],
   "source": []
  },
  {
   "cell_type": "code",
   "execution_count": null,
   "id": "8c526d37-a6ce-48af-8225-0c7190ae66ff",
   "metadata": {},
   "outputs": [],
   "source": []
  },
  {
   "cell_type": "markdown",
   "id": "b6c75e66-65ad-440e-94ff-918161fa0f9e",
   "metadata": {},
   "source": [
    "# W3M5: Average Rating of Movies using MapReduce"
   ]
  },
  {
   "cell_type": "code",
   "execution_count": null,
   "id": "d82c10b0-c548-41c1-9e4d-f8dd5b6b22fd",
   "metadata": {},
   "outputs": [],
   "source": []
  },
  {
   "cell_type": "code",
   "execution_count": null,
   "id": "65df6e3d-ece4-484d-ad0b-b0cb50eec185",
   "metadata": {},
   "outputs": [],
   "source": []
  },
  {
   "cell_type": "markdown",
   "id": "58bdd1e8-a885-4623-8a88-e29a5bd6725a",
   "metadata": {},
   "source": [
    "# W3M6: Amazon Product Review using MapReduce"
   ]
  },
  {
   "cell_type": "code",
   "execution_count": null,
   "id": "e795fe43-2435-469e-bf94-9eb14891eee2",
   "metadata": {},
   "outputs": [],
   "source": []
  },
  {
   "cell_type": "code",
   "execution_count": null,
   "id": "fd76016e-0bdc-49f8-b2d6-4958cd9e5210",
   "metadata": {},
   "outputs": [],
   "source": []
  }
 ],
 "metadata": {
  "kernelspec": {
   "display_name": "Python 3 (ipykernel)",
   "language": "python",
   "name": "python3"
  },
  "language_info": {
   "codemirror_mode": {
    "name": "ipython",
    "version": 3
   },
   "file_extension": ".py",
   "mimetype": "text/x-python",
   "name": "python",
   "nbconvert_exporter": "python",
   "pygments_lexer": "ipython3",
   "version": "3.10.16"
  }
 },
 "nbformat": 4,
 "nbformat_minor": 5
}
