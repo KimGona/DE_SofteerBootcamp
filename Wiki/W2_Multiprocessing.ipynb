{
 "cells": [
  {
   "cell_type": "markdown",
   "id": "67909d8c-d6ee-4fbd-b21e-38d43706b604",
   "metadata": {},
   "source": [
    "## W2M1_Multiprocessing:Pool"
   ]
  },
  {
   "attachments": {},
   "cell_type": "markdown",
   "id": "2206f9c0-9a48-4dd9-b52b-fddfbd8e02e2",
   "metadata": {},
   "source": [
    "### 목표: 'multiprocessing.Pool' 사용해서 task들 동시에 실행하기\n",
    "#### <기능 요구사항>\n",
    "- task들의 이름과 지속 시간(1초~5초 등)을 정의한다.\n",
    "- 2개의 worker로 Pool을 초기화한다.\n",
    "- work list에서, task 이름과 지속시간을 포함하여 waiting message를 출력한다.\n",
    "- time.sleep을 사용해서 지속시간만큼 sleeping하는 task를 simulate한다.\n",
    "- task를 끝낸 후, task가 끝났다는 메시지를 출력한다.\n",
    "- worker pool(Pool)을 사용해서 task를 동시에 실행한 것인지 확인한다.\n",
    "\n",
    "#### <프로그래밍 요구사항>\n",
    "- Python의 multiprocessing 모듈을 사용하기\n",
    "- 이름과 지속시간을 가진 task list 정의하기\n",
    "- task 동시 실행을 위해 multiprocessing.Pool 사용하기\n",
    "- work_log 함수 사용하기(각 task마다 waiting message 출력하고 sleeping하기)\n",
    "- Pool의 map function 사용해서 work_log 함수를 task list로 합치기(map)\n",
    "\n"
   ]
  },
  {
   "cell_type": "raw",
   "id": "ced3b8bb-b364-46a9-a3be-0b590b8acc9d",
   "metadata": {},
   "source": [
    "Pool의 Map함수는 어떤 기능을 하나??\n",
    "입력 데이터를 여러 프로세스에 분산하고 각각의 프로세스에서 주어진 함수를 수행한 후 결과를 수집하는 역할을 한다. 각 입력에 대한 결과는 입력 순서대로 반환된다."
   ]
  },
  {
   "cell_type": "markdown",
   "id": "c4166a3c-91b7-462a-be09-29f197569ce0",
   "metadata": {},
   "source": [
    "병렬로 실행되었는지 확인하는 방법\n",
    "1. 시간 출력으로 확인\n",
    "2. 작업 전체 소요 시간 확인\n",
    "3. 프로세스 ID 출력"
   ]
  },
  {
   "cell_type": "markdown",
   "id": "0e8cc233-9c46-43a6-95c4-d40e7768b80e",
   "metadata": {},
   "source": [
    "## W2M2_Multiprocessing:Process"
   ]
  },
  {
   "cell_type": "markdown",
   "id": "87ea65a0-d260-4f17-bf42-80f580fe9053",
   "metadata": {},
   "source": [
    "### 목표: 'multiprocessing.Process' 사용해서 Process 여러 개 만들기\n",
    "#### <기능 요구사항>\n",
    "- 대륙 이름을 포함한 문장을 출력하는 함수 만들기\n",
    "- 함수에서 대륙의 디폴트 값은 \"Asia\"\n",
    "- 함수는 디폴트 값을 포함에서 세번 더 실행해야 된다(America, Europe, Africa)\n",
    "- 함수의 모든 instance는 모든 실행이 exit 전까지 끝나야 한다.\n",
    "\n",
    "#### <프로그래밍 요구사항>\n",
    "- python의 multiprocessing module 사용하기\n",
    "- 주어진 대륙 이름을 출력하는 함수 정의하기\n",
    "- 함수를 부를 때 Process 클래스를 사용해서 여러 개의 process 만들기\n",
    "- 모든 process들이 적절히 시작하고 완료하는지 확인하기"
   ]
  },
  {
   "cell_type": "raw",
   "id": "b56ce736-4f04-4457-96ae-71153c94c7b1",
   "metadata": {},
   "source": [
    "모든 instance의 실행이 exit 전까지 끝나는 지, 모든 process들이 적절히 시작하고 완료하는지 확인하는 방법\n",
    "1. 프로세스 시작/종료 시 상태 출력\n",
    "2. is_alive() 메서드 사용해서 프로세스 완료 확인\n",
    "3. 타이밍 비교로 병렬 처리되었는지 확인"
   ]
  },
  {
   "cell_type": "markdown",
   "id": "d73c430b-a3bf-49ef-9764-7e8b30add6a9",
   "metadata": {},
   "source": [
    "## W2M3_Multiprocessing:Queue"
   ]
  },
  {
   "cell_type": "markdown",
   "id": "cdc7b072-18b0-4f04-9adb-b3d49e78e69c",
   "metadata": {},
   "source": [
    "### 목표: 'multiprocessing.Queue' 사용해서 FIFO 방식으로 동작하는 script 작성하기\n",
    "#### <기능 요구사항>\n",
    "[Push 연산]\n",
    "- 큐에 아이템 add하기 시작할 때 알리기\n",
    "- list에 주어진 color대로 큐에 추가하기\n",
    "- 큐에 추가될 때 아이템 번호와 아이템 출력하기\n",
    "\n",
    "[Pop 연산]\n",
    "- 큐에서 아이템 제거하기 시작할 때 알리기\n",
    "- 큐가 empty될 때까지 하나씩 아이템 제거하기\n",
    "- 큐에서 아이템 제거할 때 아이템 번호와 아이템 출력하기\n",
    "\n",
    "#### <프로그래밍 요구사항>\n",
    "- 파이썬의 multiprocessing module 사용하기\n",
    "- 큐에 push되어야 하는 item list 정의하기\n",
    "- Queue 클래스 사용해서 queue 만들기\n",
    "- list에 있는 아이템 queue에 push하기\n",
    "- queue가 빌 때까지 아이템들 pop하기\n",
    "- push, pop할 때 아이템과 아이템 번호 출력하기"
   ]
  },
  {
   "cell_type": "raw",
   "id": "860f417a-1f9a-43ed-a0af-ee595962068b",
   "metadata": {},
   "source": [
    "push할 때랑 pop할 때 왜 아이템 번호가 다르지??\n",
    "Process 몇 개 만들었나??\n",
    "이거 queue만 쓰고 프로세스는 안 만들어도 되는건가ㅎ,,"
   ]
  },
  {
   "cell_type": "markdown",
   "id": "535b9286-e447-48a5-94f9-f322d58470a5",
   "metadata": {},
   "source": [
    "## W2M4_Multiprocessing:all-in-one"
   ]
  },
  {
   "cell_type": "markdown",
   "id": "2a04c19c-69c4-49c6-a8b3-33ce7eb3e309",
   "metadata": {},
   "source": [
    "### 목표: 파이썬의 'multiprocessing 모듈(queue, processes 등)' 사용해서 task들 동시에 다루기\n",
    "#### <기능 요구사항>\n",
    "[작업 분배]\n",
    "\n",
    "- Task 0~9까지 큐(tasks_to_accomplish)에 분배하고 multiple process로 실행시키기\n",
    "\n",
    "[프로세스 실행]\n",
    "\n",
    "- 4개 프로세스를 만들고 큐(tasks_to_accomplish)로부터 작업 받아와서 동시에 실행하기\n",
    "- 그 결과를 다른 큐(tasks_that_are_done)에 저장하기\n",
    "- 각 프로세스는 현재 실행 중인 작업을 출력하고 tasks_that_are_done 에 완료 메시지 추가하기 \n",
    "- task 실행 시간을 time.sleep(0.5)를 사용해서 simulate해라 \n",
    "\n",
    "[작업 완료]\n",
    "\n",
    "- 모든 프로세스들이 작업을 완료하고 Process.join()을 사용해서 동기화했는지 확인하기\n",
    "- 모든 프로세스들이 끝나면 tasks_that_are_done에 저장된 완료 메시지를 모두 출력하기 \n",
    "\n",
    "\n",
    "#### <프로그래밍 요구사항>\n",
    "- 'multiprocessing.py'파일에 모든 tasks들 실행하는 코드 작성하기\n",
    "- 파이썬의 multiprocessing 모듈 사용하기\n",
    "- queue 사용해서 작업분배 시스템 구현하기\n",
    "- task들 동시에 실행하기 위해 multiple precess 생성하기\n",
    "- Queue.get_nowait()와 예외 처리를 사용해서 process간 task들 동적 관리하기"
   ]
  },
  {
   "cell_type": "code",
   "execution_count": null,
   "id": "89cb14b7-a583-4ef8-8a10-8ec28e38b3c0",
   "metadata": {},
   "outputs": [],
   "source": []
  }
 ],
 "metadata": {
  "kernelspec": {
   "display_name": "Python 3 (ipykernel)",
   "language": "python",
   "name": "python3"
  },
  "language_info": {
   "codemirror_mode": {
    "name": "ipython",
    "version": 3
   },
   "file_extension": ".py",
   "mimetype": "text/x-python",
   "name": "python",
   "nbconvert_exporter": "python",
   "pygments_lexer": "ipython3",
   "version": "3.10.16"
  }
 },
 "nbformat": 4,
 "nbformat_minor": 5
}
