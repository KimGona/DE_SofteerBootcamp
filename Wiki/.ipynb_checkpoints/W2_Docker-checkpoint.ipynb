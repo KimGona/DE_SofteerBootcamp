{
 "cells": [
  {
   "cell_type": "markdown",
   "id": "7d36f769-793c-4568-af23-bba376c3170b",
   "metadata": {},
   "source": [
    "## 목표: Local에서 docker container image를 만들어서 aws EC2에 배포해 본다</br> -> 자신이 만든 Data Product를 다른 사람이 사용할 수 있도록!\n",
    "\n",
    "### 기능 요구사항\n",
    "- AWS EC2에 배포된 후에 서버 주소(public DNS name)로 들어가면 주피터랩 인터페이스가 실행되어야 한다.\n",
    "- 해당 화면에서 W1에서 만들었던 주피터 노트북을 선택해서 실행할 수 있어야 한다.\n",
    "\n",
    "### 프로그래밍 요구사항\n",
    "- AWS 계정 만들기</br>\n",
    "구글 계정: aws.geonah.kim@gmail.com\n",
    "- AWS free-tier EC2 생성하기</br>\n",
    "인바운드 규칙</br>\n",
    "포트 범위 / 프로토콜 / 원본</br>\n",
    "8888 / TCP / 0.0.0.0/0 (주피터랩 접속 용)</br>\n",
    "22 / TCP / 0.0.0.0/0 (ssh 연결 용)</br>\n",
    "\t\n",
    "- Docker Image 생성하기</br>\n",
    "ubuntu 22.04로 생성함\n",
    "- Docker Image 배포하기</br>\n",
    "\n",
    "- jupyter notebook 실행할 수 있어야 한다.</br>\n",
    "\n",
    "- W2에서 만든 노트북도 실행할 수 있도록 만들기</br>"
   ]
  },
  {
   "cell_type": "raw",
   "id": "111b6f05-3357-4bd3-ac8e-560cca4e8e03",
   "metadata": {},
   "source": [
    "#<내가 작성한 user data> (EC2 인스턴스의) - 이것도 ubuntu 22.04\n",
    "#!/bin/bash\n",
    "# Update the package list and install necessary dependencies\n",
    "sudo apt-get update -y\n",
    "sudo apt-get upgrade -y\n",
    "\n",
    "# Install Docker\n",
    "sudo apt-get install -y docker.io\n",
    "\n",
    "# Start and enable Docker service\n",
    "sudo systemctl start docker\n",
    "sudo systemctl enable docker\n",
    "\n",
    "# Add the default user (ubuntu) to the Docker group for non-root access\n",
    "sudo usermod -aG docker ubuntu\n",
    "\n",
    "# Apply the new group membership immediately without reboot\n",
    "newgrp docker\n",
    "\n",
    "# Print Docker version for verification\n",
    "docker --version\n",
    "\n",
    "# Install Python and pip\n",
    "sudo apt-get install -y python3 python3-pip\n",
    "\n",
    "# Install JupyterLab\n",
    "pip3 install jupyterlab"
   ]
  },
  {
   "cell_type": "markdown",
   "id": "d0d8732d-d5c0-4610-abaf-04e9277463c5",
   "metadata": {},
   "source": [
    "## AWS ECR 안 쓰고 EC2 에서 바로 image 실행(?)하기\n",
    "\n",
    "### docker desktop에서 image pull하기: ubuntu 22.04\n",
    "1.EC2 인스턴스에 ssh로 접속하기</br>\n",
    "ssh -i /path/to/my-key.pem ubuntu@{public IPv4 주소}\n",
    "\n",
    "key 권한이 bad permission이라고 하면</br>\n",
    "chmod 600 ./my-key.pem</br>\n",
    "이걸로 권한 변경( 이는 읽기와 쓰기 권한만 파일 소유자에게 부여하고, 다른 사용자에게는 권한을 주지 않는 설정)</br>\n",
    "그리고 다시 ssh 로 접속 시도</br>\n",
    "\n",
    "2.>>docker images</br>\n",
    "입력하면 image ID 가 나옴</br>\n",
    "\n",
    "3.>>docker run -d -p 8888:8888 --name jupyterlab-container {image ID} /bin/bash -c \"apt-get update -y && apt-get install -y python3 python3-pip curl && pip3 install jupyterlab && jupyter-lab --no-browser --ip=0.0.0.0 --port=8888 --NotebookApp.token='' --allow-root\"</br>\n",
    "(--allow-root 이거 써도 되는지 모르겠다)</br>\n",
    "\n",
    "4.>>크롬에서 http://{public IPv4 주소}:8888 </br>\n",
    "입력하면 주피터 랩 실행됨"
   ]
  },
  {
   "cell_type": "code",
   "execution_count": null,
   "id": "408d88ba-b587-470a-b500-61fca8da6151",
   "metadata": {},
   "outputs": [],
   "source": [
    "JupyterLab에서 작업한 파일 EC2로 올리기\n",
    "로컬 파일을 EC2로 업로드하려면, scp (secure copy) 명령어를 사용할 수 있습니다. 예를 들어, 로컬에서 작업한 Jupyter 파일을 EC2로 복사하려면 아래와 같은 명령어를 사용합니다:\n",
    "\n",
    "bash\n",
    "scp -i /path/to/de-key.pem /local/path/to/your-notebook.ipynb ubuntu@<EC2-공인-IP>:/home/ubuntu/\n",
    "\n",
    "이 명령어는 로컬에 있는 your-notebook.ipynb 파일을 EC2의 /home/ubuntu/ 디렉토리로 복사합니다."
   ]
  },
  {
   "cell_type": "markdown",
   "id": "f05e53b1-4a30-43b9-912c-545f07a2a796",
   "metadata": {},
   "source": [
    "## AWS ECR (Elastic Container Registry)에 Docker container image를 push하기 구현해야 한다."
   ]
  },
  {
   "cell_type": "markdown",
   "id": "9a0cf77a-869e-4a27-85f0-08b4071f742e",
   "metadata": {},
   "source": [
    "## 팀 활동\n",
    "### Docker를 사용하는 이유가 뭘까?\n",
    "\n",
    "\n",
    "### 어떤 점이 더 불편한가??\n",
    "\n",
    "\n",
    "### 이번 미션에서는 하나의 EC2에서 하나의 도커 컨테이너만 배포했다. 만약 여러 대의 EC2에 여러 개의 컨테이너를 배포해야 한다면 어떻게 해야 하나??\n",
    "\n",
    "\n"
   ]
  },
  {
   "cell_type": "code",
   "execution_count": null,
   "id": "2836494f-6cde-446f-89d7-cb136cf49f80",
   "metadata": {},
   "outputs": [],
   "source": []
  }
 ],
 "metadata": {
  "kernelspec": {
   "display_name": "Python 3 (ipykernel)",
   "language": "python",
   "name": "python3"
  },
  "language_info": {
   "codemirror_mode": {
    "name": "ipython",
    "version": 3
   },
   "file_extension": ".py",
   "mimetype": "text/x-python",
   "name": "python",
   "nbconvert_exporter": "python",
   "pygments_lexer": "ipython3",
   "version": "3.12.8"
  }
 },
 "nbformat": 4,
 "nbformat_minor": 5
}
