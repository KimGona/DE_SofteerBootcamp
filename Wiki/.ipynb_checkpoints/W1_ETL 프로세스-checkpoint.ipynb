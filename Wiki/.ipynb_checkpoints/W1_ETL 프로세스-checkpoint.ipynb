{
 "cells": [
  {
   "cell_type": "code",
   "execution_count": null,
   "id": "4287c180-ae36-4abb-be4c-0f54b8e636af",
   "metadata": {},
   "outputs": [],
   "source": [
    "ETL\n",
    "1. Extract(추출): 소스 데이터베이스에서 관련 데이터 추출\n",
    "2. Transfer(변환): 분석에 더 적합한 형식으로 데이터 변환\n",
    "3. Load(적재): 데이터를 대상 데이터베이스에 로드\n"
   ]
  },
  {
   "cell_type": "code",
   "execution_count": null,
   "id": "879d3862-5d81-4c75-b7f1-f3ffbb9e4c46",
   "metadata": {},
   "outputs": [],
   "source": [
    "BeautifulSoup의 첫 번째 매개변수는 HTML 문서나 HTML 형식의 텍스트이어야 하고, URL이 아닌 HTML 문자열이어야 합니다. \n",
    "현재 코드에서는 URL을 직접 전달하고 있습니다. \n",
    "만약 해당 URL의 HTML을 분석하려면, requests와 같은 라이브러리로 먼저 HTML 내용을 가져온 다음에 BeautifulSoup으로 처리해야 합니다."
   ]
  },
  {
   "cell_type": "code",
   "execution_count": null,
   "id": "711f1765-f644-44ab-806b-fcd68b41c659",
   "metadata": {},
   "outputs": [],
   "source": []
  },
  {
   "cell_type": "code",
   "execution_count": null,
   "id": "5dc3e160-e96c-4b39-a5ac-cd994b75605f",
   "metadata": {},
   "outputs": [],
   "source": []
  },
  {
   "cell_type": "code",
   "execution_count": null,
   "id": "7d0de9de-301d-4102-8501-e70f5140e98b",
   "metadata": {},
   "outputs": [],
   "source": []
  },
  {
   "cell_type": "code",
   "execution_count": null,
   "id": "9aebc9df-770d-4263-a362-ad91be425733",
   "metadata": {},
   "outputs": [],
   "source": []
  }
 ],
 "metadata": {
  "kernelspec": {
   "display_name": "Python 3 (ipykernel)",
   "language": "python",
   "name": "python3"
  },
  "language_info": {
   "codemirror_mode": {
    "name": "ipython",
    "version": 3
   },
   "file_extension": ".py",
   "mimetype": "text/x-python",
   "name": "python",
   "nbconvert_exporter": "python",
   "pygments_lexer": "ipython3",
   "version": "3.12.8"
  }
 },
 "nbformat": 4,
 "nbformat_minor": 5
}
