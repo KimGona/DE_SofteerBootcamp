{
 "cells": [
  {
   "cell_type": "raw",
   "id": "2fd2b694-9042-4ee1-8813-7f2ef4873be3",
   "metadata": {},
   "source": [
    "ETL\n",
    "1. Extract(추출): 소스 데이터베이스에서 관련 데이터 추출\n",
    "2. Transfer(변환): 분석에 더 적합한 형식으로 데이터 변환\n",
    "3. Load(적재): 데이터를 대상 데이터베이스에 로드\n"
   ]
  },
  {
   "cell_type": "raw",
   "id": "e97f60e1-23a5-4623-9780-2ca9069dcafe",
   "metadata": {},
   "source": [
    "BeautifulSoup의 첫 번째 매개변수는 HTML 문서나 HTML 형식의 텍스트이어야 하고, URL이 아닌 HTML 문자열이어야 합니다. \n",
    "현재 코드에서는 URL을 직접 전달하고 있습니다. \n",
    "만약 해당 URL의 HTML을 분석하려면, requests와 같은 라이브러리로 먼저 HTML 내용을 가져온 다음에 BeautifulSoup으로 처리해야 합니다."
   ]
  },
  {
   "cell_type": "raw",
   "id": "eb9afcc1-904e-4c83-9bde-d9c2d75a1a2f",
   "metadata": {},
   "source": [
    "W1M3 과제 내용\n",
    "\n",
    "1. 위키피디아에 있는 GDP 테이블을 크롤링 해오기 \n",
    "\n",
    "2. 추출한 정보는 가공 후 - Pandas 사용하기\n",
    "\n",
    "(GDP 높은 국가들이 먼저 나오도록, GDP의 단위는 1B USD이고 소수점 2자리 까지만 표시하기)\n",
    "+ 정보가 갱신되더라도 해당 코드를 재사용해서 정보를 얻을 수 있어야 한다.\n",
    "표에서 0 3개 빼야 million ->billion\n",
    "\n",
    "‘Countries_by_GDP.json’으로 저장하기\n",
    "\n",
    "3. 모든 처리 과정을 ‘etl_project_log.txt’파일에 기록하기\n",
    "log는 \"time, log\" 형식으로 기록하세요. \n",
    "시간은 'Year-Monthname-Day-Hour-Minute-Second' 포맷에 맞게 표시하세요\n",
    "\n",
    "Logging \n",
    "pycountry_convert\n",
    "\n",
    "4.해당 작업은 ‘etl_project_gdp.py’ 파일에 작성하기 \n",
    "주석 달아서 설명 추가\n",
    "함수 만들어서 가독성과 재사용성 높이기\n",
    "\n",
    "5. 테이블로 시각화하기(출력) Pandas 사용하기\n",
    " \n",
    "GDP가 100B USD 이상이 되는 국가만 구해서 화면에 출력하기\n",
    "각 Region별로 top5 국가의 GDP평균을 구해서 화면에 출력하기\n",
    "\n",
    "<추가 요구사항>\n",
    "6. 추출한 데이터를 ‘World_Economies.db’에 저장하기\n",
    "Sqlite3 사용,\n",
    "테이블명: Countreis_by_GDP\n",
    "Country, GDP_USD_billion 컬럼 반드시 넣기\n",
    "\n",
    "7. 필요한 모든 작업을 수행하는 ‘etl_project_gdp_with_sql.py’ 작성하기\n",
    "\n",
    "8. Sql 쿼리 사용해서 화면 출력하기\n",
    "GDP가 100B USD 이상이 되는 국가만을 구해서 화면에 출력\n",
    "각 Region별로 top5 국가의 GDP 평균을 구해서 화면에 출력\n",
    "\n",
    "<팀활동>\n",
    "- Wikipedia 페이지가 아닌, IMF 홈페이지에서 직접 데이터를 가져오는 방법은 없을까? 어떻게 하면 될까?\n",
    "\n",
    "- 만약 데이터가 갱신되면 과거의 데이터는 어떻게 되어야 할까? 과거의 데이터를 조회하는 게 필요하다면 ETL프로세스를 어떻게 변경해야 할까?\n",
    "\n",
    "<추추가>\n",
    "- Raw 데이터 양이 압도적으로 많다면? Raw 데이터를 Transform하는 데 시간이 아주 오래 걸린다면  ETL 처리 코드를 어떻게 작성하는 것이 효과적, 효율적일지 검토해보기\n",
    "\n",
    "\n",
    "모르겠는 것\n",
    "로그 기록 어떻게 해야 하나? 어떤 상황에서 로그 기록 해야 하나??\n",
    "추출할때 \n",
    "변환할때(가공할 때??)\n",
    "로드 할 때\n"
   ]
  },
  {
   "cell_type": "code",
   "execution_count": null,
   "id": "5dc3e160-e96c-4b39-a5ac-cd994b75605f",
   "metadata": {},
   "outputs": [],
   "source": []
  },
  {
   "cell_type": "code",
   "execution_count": null,
   "id": "7d0de9de-301d-4102-8501-e70f5140e98b",
   "metadata": {},
   "outputs": [],
   "source": []
  },
  {
   "cell_type": "code",
   "execution_count": null,
   "id": "9aebc9df-770d-4263-a362-ad91be425733",
   "metadata": {},
   "outputs": [],
   "source": []
  }
 ],
 "metadata": {
  "kernelspec": {
   "display_name": "Python 3 (ipykernel)",
   "language": "python",
   "name": "python3"
  },
  "language_info": {
   "codemirror_mode": {
    "name": "ipython",
    "version": 3
   },
   "file_extension": ".py",
   "mimetype": "text/x-python",
   "name": "python",
   "nbconvert_exporter": "python",
   "pygments_lexer": "ipython3",
   "version": "3.12.8"
  }
 },
 "nbformat": 4,
 "nbformat_minor": 5
}
