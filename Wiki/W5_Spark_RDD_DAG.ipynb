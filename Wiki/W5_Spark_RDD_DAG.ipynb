{
 "cells": [
  {
   "cell_type": "markdown",
   "metadata": {},
   "source": [
    "## RDD\n",
    "스파크의 기본 데이터 단위  \n",
    "immutable  \n",
    "\n",
    "- Lazy Evaluation  \n",
    ": RDD에 대한 변환이 즉시 실행되지 않는 것을 의미한다.   \n",
    "대신 스파크는 RDD 를 실행하고 작업이 호출될 때까지 기다린다.   \n",
    "-> 이를 통해 스파크는 실행 계획을 최적화하고 불필요한 계산을 최소화할 수 있다.  \n",
    "\n",
    "## Transformation\n",
    "기존 RDD의 데이터에서 새로운 RDD를 생성한다.  \n",
    "Lazy evaluation을 통해 새로운 RDD/DataFrame/Dataset을 반환하는 작업을 한다.\n",
    "transformation은 즉시 실행되지 않는다. action이 호출될 때만 실행된다.\n",
    "\n",
    "## Action\n",
    "새로운 RDD를 생성하지 않고 데이터셋에 대한 계산 결과를 반환한다. \n",
    "\n",
    "### Narrow Transformation\n",
    "각 입력 파티션이 하나의 출력 파티션에만 관여함.  \n",
    "map, filter, and flatMap 등  \n",
    "셔플 없이 데이터 계산될 수 있다.  \n",
    "\n",
    "### Wide Transformation\n",
    "각 입력 파티션이 여러 출력 파티션에 관여함.  \n",
    "groupBy, reduceByKey, and join 등  \n",
    "셔플 필수적(-> 비용 비쌈)  "
   ]
  },
  {
   "cell_type": "markdown",
   "metadata": {},
   "source": [
    "## Partition\n",
    "스파크의 파티션은 계산을 병렬로 수행할 수 있게 해주는 작고 논리적인 데이터 분할이다.  \n",
    "각 파티션은 단일 실행기의 단일 작업으로 처리된다.  \n",
    "\n",
    "## Shuffle\n",
    "셔플링은 데이터를 병렬로 처리하기 위해, 클러스터 작업자 전체에 데이터를 배포하는 프로세스이다.  \n",
    "DAG의 교환은 셔플링, 즉 여러 노드 간의 클러스터에서의 물리적 데이터 이동을 나타낸다.  \n",
    "\n",
    "## 스파크 작업 실행\n"
   ]
  },
  {
   "cell_type": "markdown",
   "metadata": {},
   "source": []
  }
 ],
 "metadata": {
  "language_info": {
   "name": "python"
  }
 },
 "nbformat": 4,
 "nbformat_minor": 2
}
