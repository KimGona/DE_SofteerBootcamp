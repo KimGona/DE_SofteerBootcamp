{
 "cells": [
  {
   "cell_type": "code",
   "execution_count": null,
   "id": "a4ff8763-4dcb-4d90-ab34-885bd24af7c9",
   "metadata": {},
   "outputs": [],
   "source": [
    "WHERE 절 IN 연산자 \n",
    "\n",
    "SELECT * FROM Customers\n",
    "                WHERE Country IN ('Paris', 'London');\n",
    "\n",
    "Country가 'Paris'이거나 'London' 이면 출력\n"
   ]
  },
  {
   "cell_type": "raw",
   "id": "b897ad56-95e0-4811-b342-e16423d8a716",
   "metadata": {},
   "source": [
    "TABLE 데이터 바꾸는 작업 할 때는 pd.read_sql(\"\",conn)으로 하면 오류남\n",
    "cur.execute()로 해야 오류 안남\n",
    "\n",
    "Insert할때 안 넣는 컬럼 값은 None(NULL)이 됨"
   ]
  },
  {
   "cell_type": "raw",
   "id": "6d1b08cb-e2ce-48ae-a96d-1f95544a6fee",
   "metadata": {},
   "source": [
    "모든 레코드 삭제할 때: DELETE FROM Customers;\n",
    "테이블 삭제할 때: DROP TABLE Customers;"
   ]
  },
  {
   "cell_type": "code",
   "execution_count": null,
   "id": "86a27ef6-1b06-4d3d-b5da-e8521ea9dfd8",
   "metadata": {},
   "outputs": [],
   "source": [
    "SQL Aggregate Functions\n",
    "An aggregate function is a function that performs a calculation on a set of values, and returns a single value.\n",
    "\n",
    "Aggregate functions are often used with the GROUP BY clause of the SELECT statement. \n",
    "The GROUP BY clause splits the result-set into groups of values and the aggregate function can be used to return a single value for each group.\n",
    "\n",
    "MIN() - returns the smallest value within the selected column\n",
    "MAX() - returns the largest value within the selected column\n",
    "COUNT() - returns the number of rows in a set\n",
    "SUM() - returns the total sum of a numerical column\n",
    "AVG() - returns the average value of a numerical column\n",
    "\n",
    "Aggregate functions ignore null values (except for COUNT())."
   ]
  },
  {
   "cell_type": "code",
   "execution_count": null,
   "id": "d751fb93-0c60-4fe4-a02c-65bdb02a2959",
   "metadata": {},
   "outputs": [],
   "source": [
    "#날짜 관련\n",
    "pd.read_sql(\"\"\"SELECT * FROM Orders\n",
    "                WHERE OrderDate BETWEEN '1996-07-01' AND '1996-07-31';\"\"\",conn)"
   ]
  },
  {
   "cell_type": "raw",
   "id": "c66a54d5-e40e-4bd0-941a-3987cdf65d5f",
   "metadata": {},
   "source": [
    "#Concat Columns\n",
    "pd.read_sql(\"\"\"SELECT CustomerName, (Address || ', ' || PostalCode || ' ' || City || ', '|| Country) AS Address\n",
    "                FROM Customers;\"\"\",conn)"
   ]
  },
  {
   "cell_type": "code",
   "execution_count": null,
   "id": "c722ed19-cf15-461e-95bc-11ebd52cbaad",
   "metadata": {},
   "outputs": [],
   "source": [
    "#JOIN Three Tables  \n",
    "pd.read_sql(\"\"\"SELECT Orders.OrderID, Customers.CustomerName, Shippers.ShipperName\n",
    "                FROM Orders\n",
    "                INNER JOIN Customers ON Orders.CustomerID = Customers.CustomerID)\n",
    "                INNER JOIN Shippers ON Orders.ShipperID = Shippers.ShipperID);\"\"\",conn)\n",
    "세 테이블 조인할 때 "
   ]
  },
  {
   "cell_type": "code",
   "execution_count": null,
   "id": "bac9d9f3-24a7-414c-a237-329224f40222",
   "metadata": {},
   "outputs": [],
   "source": [
    "#'Customer'인지 'Supplier'인지 나열하는 임시 Column을 하나 만들 수 있다.\n",
    "pd.read_sql(\"\"\"SELECT 'Customer' AS Type, ContactName, City, Country\n",
    "                FROM Customers\n",
    "                UNION\n",
    "                SELECT 'Supplier', ContactName, City,Country\n",
    "                FROM Suppliers;\"\"\",conn)"
   ]
  },
  {
   "cell_type": "raw",
   "id": "891616c9-9bd7-42ec-9ee4-ccb8880a4e51",
   "metadata": {},
   "source": [
    "<Having 과 where의 차이점>\n",
    "having절과 where절의 유사점: 둘 다 데이터 세트검색을 필터링할때 사용할 수 있다는 점입니다.\n",
    "having 절과 where절의 차이: having은 전체 결과, where은 개별 행\n",
    "\n",
    "Having절은 WHERE절과 비슷하지만 그룹 전체 즉, 그룹을 나타내는 결과 집합의 행에만 적용된다\n",
    "반면 WHERE절은 개별 행에 적용이 된다.\n",
    "\n",
    "having은 SQL select문이 집계 값이 지정된 조건을 충족하는 행만 반환하도록 지정하는 SQL절이다.\n",
    "where은 단일 테이블에서 데이터를 가져 오거나 여러 테이블과 결합하여 조건을 지정하는데 사용되는 SQL절이다.\n",
    "    \n",
    "having절은 그룹을 필터링하는 데 사용된다.\n",
    "where절을 행을 필터링 하는데 사용된다.\n",
    "    \n",
    "집계 함수는 having 절과 함께 사용할 수 있다.\n",
    "where절을 have절에 포함된 하위 쿼리에 있지않으면 집계함수와 함께 사용할 수 없다.\n",
    "(집계함수란, COUNT, MIN, MAX, SUM, AVG등등이 있다.)\n",
    "having 절은 Group By 절 뒤에 사용합니다.\n",
    "Where 절은 Group By 절 앞에 사용합니다.\n",
    "\n",
    "간단 요약\n",
    "Having은 그룹화 또는 집계가 발생한 후 레코드를 필터링하는데 사용된다.\n",
    "Where은 그룹화 또는 집계가 발생하기 전에 레코드를 필터링하는데 사용된다."
   ]
  },
  {
   "cell_type": "code",
   "execution_count": null,
   "id": "7d02c7a6-f7a5-4620-a060-ac6f0865b99a",
   "metadata": {},
   "outputs": [],
   "source": [
    "EXISTS 사용법 잘 모르겠음,,,,"
   ]
  },
  {
   "cell_type": "raw",
   "id": "c8f7a3ad-9b4e-421a-900b-b21faa206ed9",
   "metadata": {},
   "source": [
    "sqlite3환경에서 ANY,ALL,INTO, INSERT INTO SELECT, STORED PROCEDURE 동작 안함"
   ]
  },
  {
   "cell_type": "code",
   "execution_count": null,
   "id": "b7c82cda-9fa9-4607-ab74-bd973bc09989",
   "metadata": {},
   "outputs": [],
   "source": [
    "#CASE문\n",
    "CASE\n",
    "    WHEN condition1 THEN result1\n",
    "    WHEN condition2 THEN result2\n",
    "    WHEN conditionN THEN resultN\n",
    "    ELSE result\n",
    "END;\n",
    "\n",
    "#예제\n",
    "pd.read_sql(\"\"\"SELECT CustomerName, City,Country\n",
    "                FROM Customers\n",
    "                ORDER BY\n",
    "                (CASE\n",
    "                    WHEN City IS NULL THEN Country\n",
    "                    ELSE City\n",
    "                END);\"\"\",conn)"
   ]
  }
 ],
 "metadata": {
  "kernelspec": {
   "display_name": "Python 3 (ipykernel)",
   "language": "python",
   "name": "python3"
  },
  "language_info": {
   "codemirror_mode": {
    "name": "ipython",
    "version": 3
   },
   "file_extension": ".py",
   "mimetype": "text/x-python",
   "name": "python",
   "nbconvert_exporter": "python",
   "pygments_lexer": "ipython3",
   "version": "3.12.8"
  }
 },
 "nbformat": 4,
 "nbformat_minor": 5
}
