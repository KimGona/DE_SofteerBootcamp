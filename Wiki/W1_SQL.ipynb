{
 "cells": [
  {
   "cell_type": "code",
   "execution_count": null,
   "id": "a4ff8763-4dcb-4d90-ab34-885bd24af7c9",
   "metadata": {},
   "outputs": [],
   "source": [
    "WHERE 절 IN 연산자 \n",
    "SELECT * FROM Customers\n",
    "                WHERE Country NOT IN ('Paris', 'London');\n",
    "\n",
    "\n"
   ]
  },
  {
   "cell_type": "code",
   "execution_count": 2,
   "id": "5689b781-2598-4af3-ba82-7998d548a4e3",
   "metadata": {},
   "outputs": [
    {
     "ename": "SyntaxError",
     "evalue": "invalid syntax (1109240015.py, line 1)",
     "output_type": "error",
     "traceback": [
      "\u001b[0;36m  Cell \u001b[0;32mIn[2], line 1\u001b[0;36m\u001b[0m\n\u001b[0;31m    TABLE DATE 바꾸는 작업 할 때는 pd.read_sql(\"\",conn)으로 하면 오류남\u001b[0m\n\u001b[0m          ^\u001b[0m\n\u001b[0;31mSyntaxError\u001b[0m\u001b[0;31m:\u001b[0m invalid syntax\n"
     ]
    }
   ],
   "source": [
    "TABLE DATE 바꾸는 작업 할 때는 pd.read_sql(\"\",conn)으로 하면 오류남\n",
    "cur.execute()로 해야 오류 안남\n",
    "\n",
    "Insert할때 안 넣는 컬럼 값은 None(NULL)이 됨"
   ]
  },
  {
   "cell_type": "code",
   "execution_count": null,
   "id": "16188300-418b-4d10-a38a-f32d62809e85",
   "metadata": {},
   "outputs": [],
   "source": [
    "Be careful when updating records. If you omit the WHERE clause, ALL records will be updated!"
   ]
  },
  {
   "cell_type": "code",
   "execution_count": null,
   "id": "b54c3fcf-066e-4591-b32d-03fd902ae903",
   "metadata": {},
   "outputs": [],
   "source": [
    "Delete All records: DELETE FROM Customers;\n",
    "Delete Table: DROP TABLE Customers;"
   ]
  },
  {
   "cell_type": "code",
   "execution_count": null,
   "id": "86a27ef6-1b06-4d3d-b5da-e8521ea9dfd8",
   "metadata": {},
   "outputs": [],
   "source": [
    "SQL Aggregate Functions\n",
    "An aggregate function is a function that performs a calculation on a set of values, and returns a single value.\n",
    "\n",
    "Aggregate functions are often used with the GROUP BY clause of the SELECT statement. The GROUP BY clause splits the result-set into groups of values and the aggregate function can be used to return a single value for each group.\n",
    "\n",
    "\n",
    "MIN() - returns the smallest value within the selected column\n",
    "MAX() - returns the largest value within the selected column\n",
    "COUNT() - returns the number of rows in a set\n",
    "SUM() - returns the total sum of a numerical column\n",
    "AVG() - returns the average value of a numerical column\n",
    "\n",
    "Aggregate functions ignore null values (except for COUNT())."
   ]
  },
  {
   "cell_type": "code",
   "execution_count": null,
   "id": "d751fb93-0c60-4fe4-a02c-65bdb02a2959",
   "metadata": {},
   "outputs": [],
   "source": [
    "#날짜 관련\n",
    "\n",
    "pd.read_sql(\"\"\"SELECT * FROM Orders\n",
    "                WHERE OrderDate BETWEEN '1996-07-01' AND '1996-07-31';\"\"\",conn)"
   ]
  },
  {
   "cell_type": "code",
   "execution_count": 1,
   "id": "fbfb9f61-9b9a-41be-8410-6891ea05fef2",
   "metadata": {},
   "outputs": [
    {
     "ename": "NameError",
     "evalue": "name 'pd' is not defined",
     "output_type": "error",
     "traceback": [
      "\u001b[0;31m---------------------------------------------------------------------------\u001b[0m",
      "\u001b[0;31mNameError\u001b[0m                                 Traceback (most recent call last)",
      "Cell \u001b[0;32mIn[1], line 3\u001b[0m\n\u001b[1;32m      1\u001b[0m \u001b[38;5;66;03m#Concatenate Columns\u001b[39;00m\n\u001b[0;32m----> 3\u001b[0m \u001b[43mpd\u001b[49m\u001b[38;5;241m.\u001b[39mread_sql(\u001b[38;5;124m\"\"\"\u001b[39m\u001b[38;5;124mSELECT CustomerName, (Address || \u001b[39m\u001b[38;5;124m'\u001b[39m\u001b[38;5;124m, \u001b[39m\u001b[38;5;124m'\u001b[39m\u001b[38;5;124m || PostalCode || \u001b[39m\u001b[38;5;124m'\u001b[39m\u001b[38;5;124m \u001b[39m\u001b[38;5;124m'\u001b[39m\u001b[38;5;124m || City || \u001b[39m\u001b[38;5;124m'\u001b[39m\u001b[38;5;124m, \u001b[39m\u001b[38;5;124m'\u001b[39m\u001b[38;5;124m|| Country) AS Address\u001b[39m\n\u001b[1;32m      4\u001b[0m \u001b[38;5;124m                FROM Customers;\u001b[39m\u001b[38;5;124m\"\"\"\u001b[39m,conn)\n",
      "\u001b[0;31mNameError\u001b[0m: name 'pd' is not defined"
     ]
    }
   ],
   "source": [
    "#Concatenate Columns\n",
    "\n",
    "pd.read_sql(\"\"\"SELECT CustomerName, (Address || ', ' || PostalCode || ' ' || City || ', '|| Country) AS Address\n",
    "                FROM Customers;\"\"\",conn)"
   ]
  },
  {
   "cell_type": "code",
   "execution_count": null,
   "id": "c722ed19-cf15-461e-95bc-11ebd52cbaad",
   "metadata": {},
   "outputs": [],
   "source": [
    "#JOIN Three Tables  \n",
    "pd.read_sql(\"\"\"SELECT Orders.OrderID, Customers.CustomerName, Shippers.ShipperName\n",
    "                FROM Orders\n",
    "                INNER JOIN Customers ON Orders.CustomerID = Customers.CustomerID)\n",
    "                INNER JOIN Shippers ON Orders.ShipperID = Shippers.ShipperID);\"\"\",conn)\n",
    "세 테이블 조인할 때 "
   ]
  },
  {
   "cell_type": "code",
   "execution_count": null,
   "id": "bac9d9f3-24a7-414c-a237-329224f40222",
   "metadata": {},
   "outputs": [],
   "source": [
    "pd.read_sql(\"\"\"SELECT 'Customer' AS Type, ContactName, City, Country\n",
    "                FROM Customers\n",
    "                UNION\n",
    "                SELECT 'Supplier', ContactName, City,Country\n",
    "                FROM Suppliers;\"\"\",conn)"
   ]
  },
  {
   "cell_type": "code",
   "execution_count": null,
   "id": "a09cd610-7f0f-4746-b579-644af61fd291",
   "metadata": {},
   "outputs": [],
   "source": [
    "Having 과 where의 차이점"
   ]
  },
  {
   "cell_type": "code",
   "execution_count": null,
   "id": "7d02c7a6-f7a5-4620-a060-ac6f0865b99a",
   "metadata": {},
   "outputs": [],
   "source": [
    "EXISTS 사용법 잘 모름"
   ]
  },
  {
   "cell_type": "code",
   "execution_count": null,
   "id": "91a7ba32-322a-488b-a998-12a0fca1c85d",
   "metadata": {},
   "outputs": [],
   "source": [
    "ANY,ALL,INTO, INSERT INTO SELECT, STORED PROCEDURE 동작 안함"
   ]
  },
  {
   "cell_type": "code",
   "execution_count": null,
   "id": "b7c82cda-9fa9-4607-ab74-bd973bc09989",
   "metadata": {},
   "outputs": [],
   "source": [
    "#CASE문\n",
    "CASE\n",
    "    WHEN condition1 THEN result1\n",
    "    WHEN condition2 THEN result2\n",
    "    WHEN conditionN THEN resultN\n",
    "    ELSE result\n",
    "END;"
   ]
  }
 ],
 "metadata": {
  "kernelspec": {
   "display_name": "Python 3 (ipykernel)",
   "language": "python",
   "name": "python3"
  },
  "language_info": {
   "codemirror_mode": {
    "name": "ipython",
    "version": 3
   },
   "file_extension": ".py",
   "mimetype": "text/x-python",
   "name": "python",
   "nbconvert_exporter": "python",
   "pygments_lexer": "ipython3",
   "version": "3.12.8"
  }
 },
 "nbformat": 4,
 "nbformat_minor": 5
}
