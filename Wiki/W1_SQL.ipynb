{
 "cells": [
  {
   "cell_type": "code",
   "execution_count": null,
   "id": "a4ff8763-4dcb-4d90-ab34-885bd24af7c9",
   "metadata": {},
   "outputs": [],
   "source": [
    "WHERE 절 IN 연산자 \n",
    "\n",
    "SELECT * FROM Customers\n",
    "                WHERE Country IN ('Paris', 'London');\n",
    "\n",
    "Country가 'Paris'이거나 'London' 이면 출력\n"
   ]
  },
  {
   "cell_type": "raw",
   "id": "b897ad56-95e0-4811-b342-e16423d8a716",
   "metadata": {},
   "source": [
    "TABLE 데이터 바꾸는 작업 할 때는 pd.read_sql(\"\",conn)으로 하면 오류남\n",
    "cur.execute()로 해야 오류 안남\n",
    "\n",
    "Insert할때 안 넣는 컬럼 값은 None(NULL)이 됨"
   ]
  },
  {
   "cell_type": "raw",
   "id": "6d1b08cb-e2ce-48ae-a96d-1f95544a6fee",
   "metadata": {},
   "source": [
    "모든 레코드 삭제할 때: DELETE FROM Customers;\n",
    "테이블 삭제할 때: DROP TABLE Customers;"
   ]
  },
  {
   "cell_type": "code",
   "execution_count": null,
   "id": "86a27ef6-1b06-4d3d-b5da-e8521ea9dfd8",
   "metadata": {},
   "outputs": [],
   "source": [
    "SQL Aggregate Functions\n",
    "An aggregate function is a function that performs a calculation on a set of values, and returns a single value.\n",
    "\n",
    "Aggregate functions are often used with the GROUP BY clause of the SELECT statement. \n",
    "The GROUP BY clause splits the result-set into groups of values and the aggregate function can be used to return a single value for each group.\n",
    "\n",
    "MIN() - returns the smallest value within the selected column\n",
    "MAX() - returns the largest value within the selected column\n",
    "COUNT() - returns the number of rows in a set\n",
    "SUM() - returns the total sum of a numerical column\n",
    "AVG() - returns the average value of a numerical column\n",
    "\n",
    "Aggregate functions ignore null values (except for COUNT())."
   ]
  },
  {
   "cell_type": "code",
   "execution_count": null,
   "id": "d751fb93-0c60-4fe4-a02c-65bdb02a2959",
   "metadata": {},
   "outputs": [],
   "source": [
    "#날짜 관련\n",
    "pd.read_sql(\"\"\"SELECT * FROM Orders\n",
    "                WHERE OrderDate BETWEEN '1996-07-01' AND '1996-07-31';\"\"\",conn)"
   ]
  },
  {
   "cell_type": "raw",
   "id": "c66a54d5-e40e-4bd0-941a-3987cdf65d5f",
   "metadata": {},
   "source": [
    "#Concat Columns\n",
    "pd.read_sql(\"\"\"SELECT CustomerName, (Address || ', ' || PostalCode || ' ' || City || ', '|| Country) AS Address\n",
    "                FROM Customers;\"\"\",conn)"
   ]
  },
  {
   "cell_type": "code",
   "execution_count": null,
   "id": "c722ed19-cf15-461e-95bc-11ebd52cbaad",
   "metadata": {},
   "outputs": [],
   "source": [
    "#JOIN Three Tables  \n",
    "pd.read_sql(\"\"\"SELECT Orders.OrderID, Customers.CustomerName, Shippers.ShipperName\n",
    "                FROM Orders\n",
    "                INNER JOIN Customers ON Orders.CustomerID = Customers.CustomerID)\n",
    "                INNER JOIN Shippers ON Orders.ShipperID = Shippers.ShipperID);\"\"\",conn)\n",
    "세 테이블 조인할 때 "
   ]
  },
  {
   "cell_type": "code",
   "execution_count": null,
   "id": "bac9d9f3-24a7-414c-a237-329224f40222",
   "metadata": {},
   "outputs": [],
   "source": [
    "#'Customer'인지 'Supplier'인지 나열하는 임시 Column을 하나 만들 수 있다.\n",
    "pd.read_sql(\"\"\"SELECT 'Customer' AS Type, ContactName, City, Country\n",
    "                FROM Customers\n",
    "                UNION\n",
    "                SELECT 'Supplier', ContactName, City,Country\n",
    "                FROM Suppliers;\"\"\",conn)"
   ]
  },
  {
   "cell_type": "raw",
   "id": "891616c9-9bd7-42ec-9ee4-ccb8880a4e51",
   "metadata": {},
   "source": [
    "<Having 과 where의 차이점>\n",
    "having절과 where절의 유사점: 둘 다 데이터 세트검색을 필터링할때 사용할 수 있다는 점입니다.\n",
    "having 절과 where절의 차이: having은 전체 결과, where은 개별 행\n",
    "\n",
    "Having절은 WHERE절과 비슷하지만 그룹 전체 즉, 그룹을 나타내는 결과 집합의 행에만 적용된다\n",
    "반면 WHERE절은 개별 행에 적용이 된다.\n",
    "\n",
    "having은 SQL select문이 집계 값이 지정된 조건을 충족하는 행만 반환하도록 지정하는 SQL절이다.\n",
    "where은 단일 테이블에서 데이터를 가져 오거나 여러 테이블과 결합하여 조건을 지정하는데 사용되는 SQL절이다.\n",
    "    \n",
    "having절은 그룹을 필터링하는 데 사용된다.\n",
    "where절을 행을 필터링 하는데 사용된다.\n",
    "    \n",
    "집계 함수는 having 절과 함께 사용할 수 있다.\n",
    "where절을 have절에 포함된 하위 쿼리에 있지않으면 집계함수와 함께 사용할 수 없다.\n",
    "(집계함수란, COUNT, MIN, MAX, SUM, AVG등등이 있다.)\n",
    "having 절은 Group By 절 뒤에 사용합니다.\n",
    "Where 절은 Group By 절 앞에 사용합니다.\n",
    "\n",
    "간단 요약\n",
    "Having은 그룹화 또는 집계가 발생한 후 레코드를 필터링하는데 사용된다.\n",
    "Where은 그룹화 또는 집계가 발생하기 전에 레코드를 필터링하는데 사용된다."
   ]
  },
  {
   "cell_type": "code",
   "execution_count": null,
   "id": "7d02c7a6-f7a5-4620-a060-ac6f0865b99a",
   "metadata": {},
   "outputs": [],
   "source": [
    "EXISTS 사용법 잘 모르겠음,,,,"
   ]
  },
  {
   "cell_type": "raw",
   "id": "c8f7a3ad-9b4e-421a-900b-b21faa206ed9",
   "metadata": {},
   "source": [
    "sqlite3환경에서 ANY,ALL,INTO, INSERT INTO SELECT, STORED PROCEDURE 동작 안함"
   ]
  },
  {
   "cell_type": "code",
   "execution_count": null,
   "id": "b7c82cda-9fa9-4607-ab74-bd973bc09989",
   "metadata": {},
   "outputs": [],
   "source": [
    "#CASE문\n",
    "CASE\n",
    "    WHEN condition1 THEN result1\n",
    "    WHEN condition2 THEN result2\n",
    "    WHEN conditionN THEN resultN\n",
    "    ELSE result\n",
    "END;\n",
    "\n",
    "#예제\n",
    "pd.read_sql(\"\"\"SELECT CustomerName, City,Country\n",
    "                FROM Customers\n",
    "                ORDER BY\n",
    "                (CASE\n",
    "                    WHEN City IS NULL THEN Country\n",
    "                    ELSE City\n",
    "                END);\"\"\",conn)"
   ]
  },
  {
   "cell_type": "markdown",
   "id": "73addba2-1246-40ff-ad77-731a2626f0e7",
   "metadata": {},
   "source": [
    "#### 팀원들끼리 문제 만들어서 공유하기"
   ]
  },
  {
   "cell_type": "code",
   "execution_count": 14,
   "id": "d7b7198d-ba3b-4029-ad0a-6b6732d739f9",
   "metadata": {},
   "outputs": [],
   "source": [
    "import sqlite3\n",
    "import pandas as pd\n",
    "conn = sqlite3.connect('Northwind.db')"
   ]
  },
  {
   "cell_type": "code",
   "execution_count": 10,
   "id": "27b00118-96af-4609-8a5b-14c3a39387be",
   "metadata": {},
   "outputs": [
    {
     "data": {
      "text/html": [
       "<div>\n",
       "<style scoped>\n",
       "    .dataframe tbody tr th:only-of-type {\n",
       "        vertical-align: middle;\n",
       "    }\n",
       "\n",
       "    .dataframe tbody tr th {\n",
       "        vertical-align: top;\n",
       "    }\n",
       "\n",
       "    .dataframe thead th {\n",
       "        text-align: right;\n",
       "    }\n",
       "</style>\n",
       "<table border=\"1\" class=\"dataframe\">\n",
       "  <thead>\n",
       "    <tr style=\"text-align: right;\">\n",
       "      <th></th>\n",
       "      <th>LastName</th>\n",
       "    </tr>\n",
       "  </thead>\n",
       "  <tbody>\n",
       "    <tr>\n",
       "      <th>0</th>\n",
       "      <td>Davolio</td>\n",
       "    </tr>\n",
       "    <tr>\n",
       "      <th>1</th>\n",
       "      <td>Fuller</td>\n",
       "    </tr>\n",
       "    <tr>\n",
       "      <th>2</th>\n",
       "      <td>Leverling</td>\n",
       "    </tr>\n",
       "    <tr>\n",
       "      <th>3</th>\n",
       "      <td>Peacock</td>\n",
       "    </tr>\n",
       "    <tr>\n",
       "      <th>4</th>\n",
       "      <td>Buchanan</td>\n",
       "    </tr>\n",
       "    <tr>\n",
       "      <th>5</th>\n",
       "      <td>Suyama</td>\n",
       "    </tr>\n",
       "    <tr>\n",
       "      <th>6</th>\n",
       "      <td>King</td>\n",
       "    </tr>\n",
       "    <tr>\n",
       "      <th>7</th>\n",
       "      <td>Callahan</td>\n",
       "    </tr>\n",
       "    <tr>\n",
       "      <th>8</th>\n",
       "      <td>Dodsworth</td>\n",
       "    </tr>\n",
       "  </tbody>\n",
       "</table>\n",
       "</div>"
      ],
      "text/plain": [
       "    LastName\n",
       "0    Davolio\n",
       "1     Fuller\n",
       "2  Leverling\n",
       "3    Peacock\n",
       "4   Buchanan\n",
       "5     Suyama\n",
       "6       King\n",
       "7   Callahan\n",
       "8  Dodsworth"
      ]
     },
     "execution_count": 10,
     "metadata": {},
     "output_type": "execute_result"
    }
   ],
   "source": [
    "#1997년 1월 1일 이전에 발생한 주문을 담당하는 Employee의 LastName을 출력하시오(DISTINCT 사용하기)\n",
    "pd.read_sql(\"\"\"SELECT DISTINCT LastName FROM Employees\n",
    "                WHERE EXISTS (SELECT EmployeeID FROM Orders\n",
    "                \t\t\tWHERE Employees.EmployeeID = Orders.EmployeeID AND OrderDate < '1997-01-01');\"\"\",conn)\n",
    "\n",
    "\n"
   ]
  },
  {
   "cell_type": "code",
   "execution_count": 36,
   "id": "ab8f6bfa-d1fb-4ca3-aa6a-e057ce2d506c",
   "metadata": {},
   "outputs": [
    {
     "data": {
      "text/html": [
       "<div>\n",
       "<style scoped>\n",
       "    .dataframe tbody tr th:only-of-type {\n",
       "        vertical-align: middle;\n",
       "    }\n",
       "\n",
       "    .dataframe tbody tr th {\n",
       "        vertical-align: top;\n",
       "    }\n",
       "\n",
       "    .dataframe thead th {\n",
       "        text-align: right;\n",
       "    }\n",
       "</style>\n",
       "<table border=\"1\" class=\"dataframe\">\n",
       "  <thead>\n",
       "    <tr style=\"text-align: right;\">\n",
       "      <th></th>\n",
       "      <th>LastName</th>\n",
       "    </tr>\n",
       "  </thead>\n",
       "  <tbody>\n",
       "    <tr>\n",
       "      <th>0</th>\n",
       "      <td>Davolio</td>\n",
       "    </tr>\n",
       "    <tr>\n",
       "      <th>1</th>\n",
       "      <td>Callahan</td>\n",
       "    </tr>\n",
       "  </tbody>\n",
       "</table>\n",
       "</div>"
      ],
      "text/plain": [
       "   LastName\n",
       "0   Davolio\n",
       "1  Callahan"
      ]
     },
     "execution_count": 36,
     "metadata": {},
     "output_type": "execute_result"
    }
   ],
   "source": [
    "# Q. Orders 테이블과 Employees 테이블 이용\n",
    "# 주문을 10개 이상 받은 Employee 중에서 LastName이 D나 C로 시작하는 사원들 LastName 정보 출력\n",
    "\n",
    "\n",
    "pd.read_sql(\"\"\"SELECT Employees.LastName FROM Employees \n",
    "                JOIN Orders ON Orders.EmployeeID = Employees.EmployeeID\n",
    "                WHERE LastName LIKE 'C%' OR LastName LIKE 'D%'\n",
    "                GROUP BY Employees.EmployeeID\n",
    "                HAVING COUNT(Orders.OrderID) >10;\n",
    "                \"\"\",conn)"
   ]
  },
  {
   "cell_type": "code",
   "execution_count": 34,
   "id": "67a51d0e-0646-4239-a47a-a5721f8613fd",
   "metadata": {},
   "outputs": [
    {
     "data": {
      "text/html": [
       "<div>\n",
       "<style scoped>\n",
       "    .dataframe tbody tr th:only-of-type {\n",
       "        vertical-align: middle;\n",
       "    }\n",
       "\n",
       "    .dataframe tbody tr th {\n",
       "        vertical-align: top;\n",
       "    }\n",
       "\n",
       "    .dataframe thead th {\n",
       "        text-align: right;\n",
       "    }\n",
       "</style>\n",
       "<table border=\"1\" class=\"dataframe\">\n",
       "  <thead>\n",
       "    <tr style=\"text-align: right;\">\n",
       "      <th></th>\n",
       "      <th>COUNT(CustomerName)</th>\n",
       "      <th>GROUPNum</th>\n",
       "    </tr>\n",
       "  </thead>\n",
       "  <tbody>\n",
       "    <tr>\n",
       "      <th>0</th>\n",
       "      <td>39</td>\n",
       "      <td>1</td>\n",
       "    </tr>\n",
       "    <tr>\n",
       "      <th>1</th>\n",
       "      <td>18</td>\n",
       "      <td>2</td>\n",
       "    </tr>\n",
       "    <tr>\n",
       "      <th>2</th>\n",
       "      <td>26</td>\n",
       "      <td>3</td>\n",
       "    </tr>\n",
       "    <tr>\n",
       "      <th>3</th>\n",
       "      <td>8</td>\n",
       "      <td>4</td>\n",
       "    </tr>\n",
       "  </tbody>\n",
       "</table>\n",
       "</div>"
      ],
      "text/plain": [
       "   COUNT(CustomerName) GROUPNum\n",
       "0                   39        1\n",
       "1                   18        2\n",
       "2                   26        3\n",
       "3                    8        4"
      ]
     },
     "execution_count": 34,
     "metadata": {},
     "output_type": "execute_result"
    }
   ],
   "source": [
    "#CASE 예제\n",
    "#이름에 따라 고객 그룹을 설정하여라. 고객 그룹 설정 규칙은 다음과 같다.\n",
    "#● Group 1 : A ~ I로 시작하는 이름을 가지고 있는 고객.\n",
    "#● Group 2 : J ~ O로 시작하는 이름을 가지고 있는 고객.\n",
    "#● Group 3 : P ~ T로 시작하는 이름을 가지고 있는 고객.\n",
    "#● Group 4 : U ~ Z로 시작하는 이름을  가지고 있는 고객.\n",
    "#이후, 각 그룹에 고객들의 수를 구하여 이를 출력하라.\n",
    "pd.read_sql(\"\"\"SELECT COUNT(CustomerName), \n",
    "                CASE \n",
    "                When CustomerName Between 'A' AND 'J' THEN '1'\n",
    "                WHEN CustomerName BETWEEN 'J' AND 'P' THEN '2'\n",
    "                WHEN CustomerName BETWEEN 'P' AND 'U' THEN '3'\n",
    "                ELSE '4'\n",
    "                END AS GROUPNum\n",
    "                FROM Customers \n",
    "                GROUP BY GROUPNum;\"\"\",conn)\n"
   ]
  },
  {
   "cell_type": "code",
   "execution_count": null,
   "id": "94128b10-fcbe-4556-8cc3-dd36b5e2cfaa",
   "metadata": {},
   "outputs": [],
   "source": []
  }
 ],
 "metadata": {
  "kernelspec": {
   "display_name": "Python 3 (ipykernel)",
   "language": "python",
   "name": "python3"
  },
  "language_info": {
   "codemirror_mode": {
    "name": "ipython",
    "version": 3
   },
   "file_extension": ".py",
   "mimetype": "text/x-python",
   "name": "python",
   "nbconvert_exporter": "python",
   "pygments_lexer": "ipython3",
   "version": "3.12.8"
  }
 },
 "nbformat": 4,
 "nbformat_minor": 5
}
